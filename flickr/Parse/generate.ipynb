{
 "cells": [
  {
   "cell_type": "code",
   "execution_count": 29,
   "metadata": {},
   "outputs": [],
   "source": [
    "import json\n",
    "\n",
    "\n",
    "args = {\n",
    "        \"rounds\" : 50,                   # Number of Global Aggregation Rounds\n",
    "        \"epochs\": 1,                   # Number of local epochs on each client\n",
    "        \"bs\" : 4,                       # Batch size for global model\n",
    "        \"lr\" : 0.01,                     # Learning rate (alpha)\n",
    "        \"momentum\" : 0.9,                # Momentum for SGD\n",
    "        \"split_ratio\" : 0.8,             # Ratio for splitting client data into training and testing \n",
    "        \"base_layers\" : 2,             # Base layers of local models\n",
    "        \"model\" : 'customResNet204',           # Model used for training\n",
    "        \"num_classes\" : 5,              # Number of classes in the dataset\n",
    "        \"gpu\": 0,                        # GPU id\n",
    "        \"seed\" : 1,                      # Seeding\n",
    "        \"naive\" : False\n",
    "    }\n",
    "\n",
    "    \n",
    "with open('./{}_{}_{}_{}_{}.txt'.format(args['model'],args['rounds'],args['epochs'],args['base_layers'],args['bs']),'w') as outfile:\n",
    "    json.dump(args,outfile,indent=4)"
   ]
  },
  {
   "cell_type": "code",
   "execution_count": 50,
   "metadata": {},
   "outputs": [
    {
     "name": "stdout",
     "output_type": "stream",
     "text": [
      "<_io.TextIOWrapper name='./ResNet_100_4_204_4_False_0.001.txt' mode='w' encoding='UTF-8'>\n"
     ]
    }
   ],
   "source": [
    "import json\n",
    "\n",
    "\n",
    "args = {\n",
    "        \"rounds\" : 100,                   # Number of Global Aggregation Rounds\n",
    "        \"epochs\": 4,                   # Number of local epochs on each client\n",
    "        \"bs\" : 4,                       # Batch size for global model\n",
    "        \"lr\" : 0.001,                     # Learning rate (alpha)\n",
    "        \"momentum\" : 0.9,                # Momentum for SGD\n",
    "        \"split_ratio\" : 0.8,             # Ratio for splitting client data into training and testing \n",
    "        \"base_layers\" : 204,             # Base layers of local models\n",
    "        \"model\" : 'ResNet',           # Model used for training\n",
    "        \"num_classes\" : 5,              # Number of classes in the dataset\n",
    "        \"gpu\": 0,                        # GPU id\n",
    "        \"seed\" : 1,                      # Seeding\n",
    "        \"naive\" : False,\n",
    "        \"finetune\" : False\n",
    "    }\n",
    "\n",
    "    \n",
    "with open('./{}_{}_{}_{}_{}_{}_{}.txt'.format(args['model'],args['rounds'],args['epochs'],args['base_layers'],args['bs'],args['finetune'],args['lr']),'w') as outfile:\n",
    "    json.dump(args,outfile,indent=4)\n",
    "    print(outfile)"
   ]
  },
  {
   "cell_type": "code",
   "execution_count": 3,
   "metadata": {},
   "outputs": [
    {
     "name": "stdout",
     "output_type": "stream",
     "text": [
      "python aesthetics.py MobileNet_2_1_164_4.txt\n"
     ]
    }
   ],
   "source": [
    "import os \n",
    "\n",
    "drt = './'\n",
    "\n",
    "for f in os.listdir(drt):\n",
    "    if(f.endswith('.txt')):\n",
    "        s = 'python aesthetics.py '+ f\n",
    "        print(s)"
   ]
  },
  {
   "cell_type": "code",
   "execution_count": 15,
   "metadata": {},
   "outputs": [
    {
     "name": "stdout",
     "output_type": "stream",
     "text": [
      "python: can't open file 'log_to_csv.py': [Errno 2] No such file or directory\n"
     ]
    }
   ],
   "source": [
    "!python log_to_csv.py\n"
   ]
  },
  {
   "cell_type": "code",
   "execution_count": null,
   "metadata": {},
   "outputs": [],
   "source": [
    "python aesthetics.py customMobileNet138_50_1_2_4.txt\n",
    "python aesthetics.py customMobileNet150_50_1_2_4.txt\n",
    "python aesthetics.py customMobileNet162_50_1_2_4.txt\n",
    "\n",
    "python aesthetics.py customResNet192_50_1_2_4.txt\n",
    "python aesthetics.py customResNet204_50_1_2_4.txt\n",
    "\n",
    "python aesthetics.py ResNet_50_1_204_32.txt\n",
    "python aesthetics.py MobileNet_50_1_150_32.txt"
   ]
  }
 ],
 "metadata": {
  "kernelspec": {
   "display_name": "Python 3",
   "language": "python",
   "name": "python3"
  },
  "language_info": {
   "codemirror_mode": {
    "name": "ipython",
    "version": 3
   },
   "file_extension": ".py",
   "mimetype": "text/x-python",
   "name": "python",
   "nbconvert_exporter": "python",
   "pygments_lexer": "ipython3",
   "version": "3.6.8"
  }
 },
 "nbformat": 4,
 "nbformat_minor": 2
}
